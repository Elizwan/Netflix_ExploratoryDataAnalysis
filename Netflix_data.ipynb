{
 "cells": [
  {
   "cell_type": "markdown",
   "id": "007b0e5c-50cb-4a2c-bc29-0a24d79c3482",
   "metadata": {},
   "source": [
    "# 📊 Exploratory Data Analysis (EDA) on Netflix Movies\n",
    "### Analyzing movie durations and short action movies from the 1990s\n",
    "This analysis aims to:\n",
    "- Find the most frequent movie duration in the 1990s.\n",
    "- Count the number of short action movies (<90 minutes) from the same period.\n"
   ]
  },
  {
   "cell_type": "markdown",
   "id": "d7e84155-39dc-463b-bc6d-465cd13555df",
   "metadata": {},
   "source": [
    "#### 1. Import libraries that are needed"
   ]
  },
  {
   "cell_type": "code",
   "execution_count": 5,
   "id": "e1a4505a-f72b-4580-8dad-3abbd59a3835",
   "metadata": {},
   "outputs": [],
   "source": [
    "# import necessary libraries\n",
    "import pandas as pd\n",
    "import matplotlib.pyplot as plt\n"
   ]
  },
  {
   "cell_type": "markdown",
   "id": "f91a0f87-b139-46e1-919c-4f6728c3cf5e",
   "metadata": {},
   "source": [
    "#### 2. Load and explore the data"
   ]
  },
  {
   "cell_type": "code",
   "execution_count": 20,
   "id": "a4288734-cc79-4bdb-a50c-ed902928c1af",
   "metadata": {},
   "outputs": [
    {
     "name": "stdout",
     "output_type": "stream",
     "text": [
      "<class 'pandas.core.frame.DataFrame'>\n",
      "RangeIndex: 4812 entries, 0 to 4811\n",
      "Data columns (total 11 columns):\n",
      " #   Column        Non-Null Count  Dtype \n",
      "---  ------        --------------  ----- \n",
      " 0   show_id       4812 non-null   object\n",
      " 1   type          4812 non-null   object\n",
      " 2   title         4812 non-null   object\n",
      " 3   director      4812 non-null   object\n",
      " 4   cast          4812 non-null   object\n",
      " 5   country       4812 non-null   object\n",
      " 6   date_added    4812 non-null   object\n",
      " 7   release_year  4812 non-null   int64 \n",
      " 8   duration      4812 non-null   int64 \n",
      " 9   description   4812 non-null   object\n",
      " 10  genre         4812 non-null   object\n",
      "dtypes: int64(2), object(9)\n",
      "memory usage: 413.7+ KB\n"
     ]
    },
    {
     "data": {
      "text/html": [
       "<div>\n",
       "<style scoped>\n",
       "    .dataframe tbody tr th:only-of-type {\n",
       "        vertical-align: middle;\n",
       "    }\n",
       "\n",
       "    .dataframe tbody tr th {\n",
       "        vertical-align: top;\n",
       "    }\n",
       "\n",
       "    .dataframe thead th {\n",
       "        text-align: right;\n",
       "    }\n",
       "</style>\n",
       "<table border=\"1\" class=\"dataframe\">\n",
       "  <thead>\n",
       "    <tr style=\"text-align: right;\">\n",
       "      <th></th>\n",
       "      <th>show_id</th>\n",
       "      <th>type</th>\n",
       "      <th>title</th>\n",
       "      <th>director</th>\n",
       "      <th>cast</th>\n",
       "      <th>country</th>\n",
       "      <th>date_added</th>\n",
       "      <th>release_year</th>\n",
       "      <th>duration</th>\n",
       "      <th>description</th>\n",
       "      <th>genre</th>\n",
       "    </tr>\n",
       "  </thead>\n",
       "  <tbody>\n",
       "    <tr>\n",
       "      <th>0</th>\n",
       "      <td>s2</td>\n",
       "      <td>Movie</td>\n",
       "      <td>7:19</td>\n",
       "      <td>Jorge Michel Grau</td>\n",
       "      <td>Demián Bichir, Héctor Bonilla, Oscar Serrano, ...</td>\n",
       "      <td>Mexico</td>\n",
       "      <td>December 23, 2016</td>\n",
       "      <td>2016</td>\n",
       "      <td>93</td>\n",
       "      <td>After a devastating earthquake hits Mexico Cit...</td>\n",
       "      <td>Dramas</td>\n",
       "    </tr>\n",
       "    <tr>\n",
       "      <th>1</th>\n",
       "      <td>s3</td>\n",
       "      <td>Movie</td>\n",
       "      <td>23:59</td>\n",
       "      <td>Gilbert Chan</td>\n",
       "      <td>Tedd Chan, Stella Chung, Henley Hii, Lawrence ...</td>\n",
       "      <td>Singapore</td>\n",
       "      <td>December 20, 2018</td>\n",
       "      <td>2011</td>\n",
       "      <td>78</td>\n",
       "      <td>When an army recruit is found dead, his fellow...</td>\n",
       "      <td>Horror Movies</td>\n",
       "    </tr>\n",
       "    <tr>\n",
       "      <th>2</th>\n",
       "      <td>s4</td>\n",
       "      <td>Movie</td>\n",
       "      <td>9</td>\n",
       "      <td>Shane Acker</td>\n",
       "      <td>Elijah Wood, John C. Reilly, Jennifer Connelly...</td>\n",
       "      <td>United States</td>\n",
       "      <td>November 16, 2017</td>\n",
       "      <td>2009</td>\n",
       "      <td>80</td>\n",
       "      <td>In a postapocalyptic world, rag-doll robots hi...</td>\n",
       "      <td>Action</td>\n",
       "    </tr>\n",
       "    <tr>\n",
       "      <th>3</th>\n",
       "      <td>s5</td>\n",
       "      <td>Movie</td>\n",
       "      <td>21</td>\n",
       "      <td>Robert Luketic</td>\n",
       "      <td>Jim Sturgess, Kevin Spacey, Kate Bosworth, Aar...</td>\n",
       "      <td>United States</td>\n",
       "      <td>January 1, 2020</td>\n",
       "      <td>2008</td>\n",
       "      <td>123</td>\n",
       "      <td>A brilliant group of students become card-coun...</td>\n",
       "      <td>Dramas</td>\n",
       "    </tr>\n",
       "    <tr>\n",
       "      <th>4</th>\n",
       "      <td>s6</td>\n",
       "      <td>TV Show</td>\n",
       "      <td>46</td>\n",
       "      <td>Serdar Akar</td>\n",
       "      <td>Erdal Beşikçioğlu, Yasemin Allen, Melis Birkan...</td>\n",
       "      <td>Turkey</td>\n",
       "      <td>July 1, 2017</td>\n",
       "      <td>2016</td>\n",
       "      <td>1</td>\n",
       "      <td>A genetics professor experiments with a treatm...</td>\n",
       "      <td>International TV</td>\n",
       "    </tr>\n",
       "  </tbody>\n",
       "</table>\n",
       "</div>"
      ],
      "text/plain": [
       "  show_id     type  title           director  \\\n",
       "0      s2    Movie   7:19  Jorge Michel Grau   \n",
       "1      s3    Movie  23:59       Gilbert Chan   \n",
       "2      s4    Movie      9        Shane Acker   \n",
       "3      s5    Movie     21     Robert Luketic   \n",
       "4      s6  TV Show     46        Serdar Akar   \n",
       "\n",
       "                                                cast        country  \\\n",
       "0  Demián Bichir, Héctor Bonilla, Oscar Serrano, ...         Mexico   \n",
       "1  Tedd Chan, Stella Chung, Henley Hii, Lawrence ...      Singapore   \n",
       "2  Elijah Wood, John C. Reilly, Jennifer Connelly...  United States   \n",
       "3  Jim Sturgess, Kevin Spacey, Kate Bosworth, Aar...  United States   \n",
       "4  Erdal Beşikçioğlu, Yasemin Allen, Melis Birkan...         Turkey   \n",
       "\n",
       "          date_added  release_year  duration  \\\n",
       "0  December 23, 2016          2016        93   \n",
       "1  December 20, 2018          2011        78   \n",
       "2  November 16, 2017          2009        80   \n",
       "3    January 1, 2020          2008       123   \n",
       "4       July 1, 2017          2016         1   \n",
       "\n",
       "                                         description             genre  \n",
       "0  After a devastating earthquake hits Mexico Cit...            Dramas  \n",
       "1  When an army recruit is found dead, his fellow...     Horror Movies  \n",
       "2  In a postapocalyptic world, rag-doll robots hi...            Action  \n",
       "3  A brilliant group of students become card-coun...            Dramas  \n",
       "4  A genetics professor experiments with a treatm...  International TV  "
      ]
     },
     "execution_count": 20,
     "metadata": {},
     "output_type": "execute_result"
    }
   ],
   "source": [
    "# Load  the dataset\n",
    "netflix_df = pd.read_csv(r\"C:\\Users\\ADMIN\\Downloads\\netflix_data.csv\")\n",
    "\n",
    "# Display basic information about the dataset\n",
    "netflix_df.info()\n",
    "\n",
    "# Show the first few rows\n",
    "netflix_df.head()"
   ]
  },
  {
   "cell_type": "markdown",
   "id": "8f063e0c-f350-4bbb-b3f5-938ad881b213",
   "metadata": {},
   "source": [
    "#### 3. Filter movies from the 1990's"
   ]
  },
  {
   "cell_type": "code",
   "execution_count": 24,
   "id": "c1613799-7fd1-4787-a087-16a2f95d64ab",
   "metadata": {},
   "outputs": [
    {
     "data": {
      "text/html": [
       "<div>\n",
       "<style scoped>\n",
       "    .dataframe tbody tr th:only-of-type {\n",
       "        vertical-align: middle;\n",
       "    }\n",
       "\n",
       "    .dataframe tbody tr th {\n",
       "        vertical-align: top;\n",
       "    }\n",
       "\n",
       "    .dataframe thead th {\n",
       "        text-align: right;\n",
       "    }\n",
       "</style>\n",
       "<table border=\"1\" class=\"dataframe\">\n",
       "  <thead>\n",
       "    <tr style=\"text-align: right;\">\n",
       "      <th></th>\n",
       "      <th>show_id</th>\n",
       "      <th>type</th>\n",
       "      <th>title</th>\n",
       "      <th>director</th>\n",
       "      <th>cast</th>\n",
       "      <th>country</th>\n",
       "      <th>date_added</th>\n",
       "      <th>release_year</th>\n",
       "      <th>duration</th>\n",
       "      <th>description</th>\n",
       "      <th>genre</th>\n",
       "    </tr>\n",
       "  </thead>\n",
       "  <tbody>\n",
       "    <tr>\n",
       "      <th>6</th>\n",
       "      <td>s8</td>\n",
       "      <td>Movie</td>\n",
       "      <td>187</td>\n",
       "      <td>Kevin Reynolds</td>\n",
       "      <td>Samuel L. Jackson, John Heard, Kelly Rowan, Cl...</td>\n",
       "      <td>United States</td>\n",
       "      <td>November 1, 2019</td>\n",
       "      <td>1997</td>\n",
       "      <td>119</td>\n",
       "      <td>After one of his high school students attacks ...</td>\n",
       "      <td>Dramas</td>\n",
       "    </tr>\n",
       "    <tr>\n",
       "      <th>118</th>\n",
       "      <td>s167</td>\n",
       "      <td>Movie</td>\n",
       "      <td>A Dangerous Woman</td>\n",
       "      <td>Stephen Gyllenhaal</td>\n",
       "      <td>Debra Winger, Barbara Hershey, Gabriel Byrne, ...</td>\n",
       "      <td>United States</td>\n",
       "      <td>April 1, 2018</td>\n",
       "      <td>1993</td>\n",
       "      <td>101</td>\n",
       "      <td>At the center of this engrossing melodrama is ...</td>\n",
       "      <td>Dramas</td>\n",
       "    </tr>\n",
       "    <tr>\n",
       "      <th>145</th>\n",
       "      <td>s211</td>\n",
       "      <td>Movie</td>\n",
       "      <td>A Night at the Roxbury</td>\n",
       "      <td>John Fortenberry</td>\n",
       "      <td>Will Ferrell, Chris Kattan, Dan Hedaya, Molly ...</td>\n",
       "      <td>United States</td>\n",
       "      <td>December 1, 2019</td>\n",
       "      <td>1998</td>\n",
       "      <td>82</td>\n",
       "      <td>After a run-in with Richard Grieco, dimwits Do...</td>\n",
       "      <td>Comedies</td>\n",
       "    </tr>\n",
       "    <tr>\n",
       "      <th>167</th>\n",
       "      <td>s239</td>\n",
       "      <td>Movie</td>\n",
       "      <td>A Thin Line Between Love &amp; Hate</td>\n",
       "      <td>Martin Lawrence</td>\n",
       "      <td>Martin Lawrence, Lynn Whitfield, Regina King, ...</td>\n",
       "      <td>United States</td>\n",
       "      <td>December 1, 2020</td>\n",
       "      <td>1996</td>\n",
       "      <td>108</td>\n",
       "      <td>When a philandering club promoter sets out to ...</td>\n",
       "      <td>Comedies</td>\n",
       "    </tr>\n",
       "    <tr>\n",
       "      <th>194</th>\n",
       "      <td>s274</td>\n",
       "      <td>Movie</td>\n",
       "      <td>Aashik Awara</td>\n",
       "      <td>Umesh Mehra</td>\n",
       "      <td>Saif Ali Khan, Mamta Kulkarni, Mohnish Bahl, S...</td>\n",
       "      <td>India</td>\n",
       "      <td>June 1, 2017</td>\n",
       "      <td>1993</td>\n",
       "      <td>154</td>\n",
       "      <td>Raised by a kindly thief, orphaned Jimmy goes ...</td>\n",
       "      <td>Dramas</td>\n",
       "    </tr>\n",
       "  </tbody>\n",
       "</table>\n",
       "</div>"
      ],
      "text/plain": [
       "    show_id   type                            title            director  \\\n",
       "6        s8  Movie                              187      Kevin Reynolds   \n",
       "118    s167  Movie                A Dangerous Woman  Stephen Gyllenhaal   \n",
       "145    s211  Movie           A Night at the Roxbury    John Fortenberry   \n",
       "167    s239  Movie  A Thin Line Between Love & Hate     Martin Lawrence   \n",
       "194    s274  Movie                     Aashik Awara         Umesh Mehra   \n",
       "\n",
       "                                                  cast        country  \\\n",
       "6    Samuel L. Jackson, John Heard, Kelly Rowan, Cl...  United States   \n",
       "118  Debra Winger, Barbara Hershey, Gabriel Byrne, ...  United States   \n",
       "145  Will Ferrell, Chris Kattan, Dan Hedaya, Molly ...  United States   \n",
       "167  Martin Lawrence, Lynn Whitfield, Regina King, ...  United States   \n",
       "194  Saif Ali Khan, Mamta Kulkarni, Mohnish Bahl, S...          India   \n",
       "\n",
       "           date_added  release_year  duration  \\\n",
       "6    November 1, 2019          1997       119   \n",
       "118     April 1, 2018          1993       101   \n",
       "145  December 1, 2019          1998        82   \n",
       "167  December 1, 2020          1996       108   \n",
       "194      June 1, 2017          1993       154   \n",
       "\n",
       "                                           description     genre  \n",
       "6    After one of his high school students attacks ...    Dramas  \n",
       "118  At the center of this engrossing melodrama is ...    Dramas  \n",
       "145  After a run-in with Richard Grieco, dimwits Do...  Comedies  \n",
       "167  When a philandering club promoter sets out to ...  Comedies  \n",
       "194  Raised by a kindly thief, orphaned Jimmy goes ...    Dramas  "
      ]
     },
     "execution_count": 24,
     "metadata": {},
     "output_type": "execute_result"
    }
   ],
   "source": [
    "# Convert 'release_year' to numeric and filter for movies from the 1990s\n",
    "netflix_df[\"release_year\"] = pd.to_numeric(netflix_df[\"release_year\"], errors=\"coerce\")\n",
    "\n",
    "# Subset to keep only movies released in the 1990s\n",
    "movies_90s = netflix_df[(netflix_df[\"type\"] == \"Movie\") & (netflix_df[\"release_year\"].between(1990, 1999))]\n",
    "\n",
    "# Display the first few rows of the filtered dataset\n",
    "movies_90s.head()\n"
   ]
  },
  {
   "cell_type": "markdown",
   "id": "9dc9da96-1636-4d7e-a98d-4031466984fb",
   "metadata": {},
   "source": [
    "#### 4. Handling missing values"
   ]
  },
  {
   "cell_type": "code",
   "execution_count": 33,
   "id": "e0cd53b4-cf43-4f94-a9c6-9189575e5f11",
   "metadata": {},
   "outputs": [
    {
     "name": "stdout",
     "output_type": "stream",
     "text": [
      "Missing Values Before Dropping:\n",
      " show_id         0\n",
      "type            0\n",
      "title           0\n",
      "director        0\n",
      "cast            0\n",
      "country         0\n",
      "date_added      0\n",
      "release_year    0\n",
      "duration        0\n",
      "description     0\n",
      "genre           0\n",
      "dtype: int64\n"
     ]
    }
   ],
   "source": [
    "# Check for missing values in each column\n",
    "missing_values = movies_90s.isnull().sum()\n",
    "print(\"Missing Values Before Dropping:\\n\", missing_values)\n"
   ]
  },
  {
   "cell_type": "code",
   "execution_count": 35,
   "id": "de80e084-56a8-4863-b1f2-d08125e75dc9",
   "metadata": {},
   "outputs": [
    {
     "name": "stdout",
     "output_type": "stream",
     "text": [
      "Missing Values After Dropping:\n",
      " show_id         0\n",
      "type            0\n",
      "title           0\n",
      "director        0\n",
      "cast            0\n",
      "country         0\n",
      "date_added      0\n",
      "release_year    0\n",
      "duration        0\n",
      "description     0\n",
      "genre           0\n",
      "dtype: int64\n"
     ]
    }
   ],
   "source": [
    "# Drop rows where 'duration' is missing\n",
    "movies_90s = movies_90s.dropna(subset=[\"duration\"])\n",
    "\n",
    "# Check missing values again after dropping\n",
    "missing_values_after = movies_90s.isnull().sum()\n",
    "print(\"Missing Values After Dropping:\\n\", missing_values_after)\n"
   ]
  },
  {
   "cell_type": "markdown",
   "id": "2bb9ef98-721f-46cf-b6aa-b6d9f77cb8f5",
   "metadata": {},
   "source": [
    "#### 5. Find the most frequent movie duration"
   ]
  },
  {
   "cell_type": "code",
   "execution_count": 38,
   "id": "3f5c7109-c7eb-46c5-b93d-eba36750b189",
   "metadata": {},
   "outputs": [
    {
     "name": "stdout",
     "output_type": "stream",
     "text": [
      "Most Frequent Movie Duration: 94\n"
     ]
    }
   ],
   "source": [
    "# Find the most frequent movie duration (mode)\n",
    "if not movies_90s[\"duration\"].mode().empty:\n",
    "    duration = movies_90s[\"duration\"].mode()[0]\n",
    "    print(\"Most Frequent Movie Duration:\", duration)\n",
    "else:\n",
    "    print(\"No mode found for movie durations.\")\n"
   ]
  },
  {
   "cell_type": "markdown",
   "id": "62209932-5460-4780-bf93-324f8d0929bc",
   "metadata": {},
   "source": [
    "#### 6. Visualize the movie durations using histogram"
   ]
  },
  {
   "cell_type": "code",
   "execution_count": 47,
   "id": "314510d1-9395-47bb-9773-5ee258836933",
   "metadata": {},
   "outputs": [
    {
     "data": {
      "image/png": "[encoded data removed]",
      "text/plain": [
       "<Figure size 1000x500 with 1 Axes>"
      ]
     },
     "metadata": {},
     "output_type": "display_data"
    }
   ],
   "source": [
    "# Plot the distribution of movie durations\n",
    "plt.figure(figsize=(10, 5))\n",
    "plt.hist(movies_90s[\"duration\"], bins=20, edgecolor=\"black\", alpha=0.7)\n",
    "plt.xlabel(\"Duration (minutes)\")\n",
    "plt.ylabel(\"Number of Movies\")\n",
    "plt.title(\"Distribution of Movie Durations (1990s)\")\n",
    "plt.grid(False)\n",
    "plt.show()\n"
   ]
  },
  {
   "cell_type": "markdown",
   "id": "c19050d5-4486-4aee-9326-4eabc3ccb7d8",
   "metadata": {},
   "source": [
    "#### 7. Count short action movies"
   ]
  },
  {
   "cell_type": "code",
   "execution_count": 44,
   "id": "4870558e-4fd6-4564-b26b-72b61150cd82",
   "metadata": {},
   "outputs": [
    {
     "name": "stdout",
     "output_type": "stream",
     "text": [
      "Number of Short Action Movies in the 1990s: 7\n"
     ]
    }
   ],
   "source": [
    "# Filter only Action movies\n",
    "action_movies_90s = movies_90s[movies_90s[\"genre\"].str.contains(\"Action\", case=False, na=False)]\n",
    "\n",
    "# Count short action movies (<90 minutes)\n",
    "short_movie_count = action_movies_90s[action_movies_90s[\"duration\"] < 90].shape[0]\n",
    "\n",
    "print(\"Number of Short Action Movies in the 1990s:\", short_movie_count)\n"
   ]
  },
  {
   "cell_type": "markdown",
   "id": "424144de-2595-4988-ac32-9b0a8999cd34",
   "metadata": {},
   "source": [
    "## 📌 Key Findings\n",
    "\n",
    "1️⃣ The most frequent movie duration in the 1990s was 94 minutes  \n",
    "2️⃣ The number of short action movies (<90 min) in the 1990s was 7.  \n",
    "📊 These insights help us understand the typical movie duration and trends in action films.\n"
   ]
  },
  {
   "cell_type": "code",
   "execution_count": null,
   "id": "3001503c-5311-469f-8c1a-7ee37da75d13",
   "metadata": {},
   "outputs": [],
   "source": []
  }
 ],
 "metadata": {
  "kernelspec": {
   "display_name": "Python [conda env:base] *",
   "language": "python",
   "name": "conda-base-py"
  },
  "language_info": {
   "codemirror_mode": {
    "name": "ipython",
    "version": 3
   },
   "file_extension": ".py",
   "mimetype": "text/x-python",
   "name": "python",
   "nbconvert_exporter": "python",
   "pygments_lexer": "ipython3",
   "version": "3.12.7"
  }
 },
 "nbformat": 4,
 "nbformat_minor": 5
}
